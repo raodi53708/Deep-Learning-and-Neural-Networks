{
 "cells": [
  {
   "cell_type": "markdown",
   "metadata": {
    "colab_type": "text",
    "id": "view-in-github"
   },
   "source": [
    "<a href=\"https://colab.research.google.com/github/Dilparao/CE888/blob/master/lab2final.ipynb\" target=\"_parent\"><img src=\"https://colab.research.google.com/assets/colab-badge.svg\" alt=\"Open In Colab\"/></a>"
   ]
  },
  {
   "cell_type": "code",
   "execution_count": 3,
   "metadata": {
    "colab": {},
    "colab_type": "code",
    "id": "FpgrZPN0NYJC"
   },
   "outputs": [],
   "source": [
    "import matplotlib\n",
    "import pandas as pd\n",
    "import seaborn as sns\n",
    "import numpy as np\n",
    "import matplotlib.pyplot as plt"
   ]
  },
  {
   "cell_type": "code",
   "execution_count": 9,
   "metadata": {
    "colab": {
     "base_uri": "https://localhost:8080/",
     "height": 51
    },
    "colab_type": "code",
    "id": "mWmfdbyUNZ81",
    "outputId": "f5cfb4fd-4828-4362-9a02-099e3fe72640"
   },
   "outputs": [
    {
     "data": {
      "text/plain": [
       "array([ 2.,  8., 20., 13.,  5.,  9., 10.,  8., 22., 10.,  2.,  4.,  7.,\n",
       "        9.])"
      ]
     },
     "execution_count": 9,
     "metadata": {},
     "output_type": "execute_result"
    }
   ],
   "source": [
    "# Load the data\n",
    "df = pd.read_csv('https://raw.githubusercontent.com/albanda/CE888/master/lab2%20-%20bootstrap/customers.csv')\n",
    "data = df.values.T[1]\n",
    "data"
   ]
  },
  {
   "cell_type": "code",
   "execution_count": 10,
   "metadata": {
    "colab": {},
    "colab_type": "code",
    "id": "dYUpKm3PNaGL"
   },
   "outputs": [],
   "source": [
    "# 1. Create an array of samples of shape (n_iterations, sample_size)\n",
    "# 2. Calculate and save the mean of the array (this is \"data_mean\" that is returned by the function)\n",
    "# 3. In each iteration:\n",
    "# 3.1 Get the data corresponding to that iteration (new_samples[iteration, :])\n",
    "# 3.2 Calculate the mean of the iteration data and store it\n",
    "# (At this point you should have an array of n_iterations values)\n",
    "# 4. Calculate the lower and upper bounds for a 95% CI (hint: check the percentile function on Numpy)\n",
    "# 5. Return data_mean, and the lower and upper bounds of your interval\n",
    "\n",
    "def boostrap_mean(sample, sample_size, n_iterations):\n",
    "  bs_sample=np.random.choice(sample,size=(n_iterations,sample_size),replace=True)\n",
    "  row_mean=np.mean(bs_sample,axis=1)\n",
    "  data_mean=np.mean(row_mean)\n",
    "  lower=np.percentile(row_mean,5)\n",
    "  upper=np.percentile(row_mean,95)\n",
    "  return data_mean, lower, upper"
   ]
  },
  {
   "cell_type": "code",
   "execution_count": 11,
   "metadata": {
    "colab": {},
    "colab_type": "code",
    "id": "P1jN6tPuRqmI"
   },
   "outputs": [],
   "source": [
    "\n",
    "def boostrap_mean_ci(sample, sample_size, n_iterations,ci):\n",
    "  bs_sample=np.random.choice(sample,size=(n_iterations,sample_size),replace=True)\n",
    "  row_mean=np.mean(bs_sample,axis=1)\n",
    "  data_mean=np.mean(row_mean)\n",
    "  lower=np.percentile(row_mean,(100-ci)/2)\n",
    "  upper=np.percentile(row_mean,100-((100-ci)/2))\n",
    "  return data_mean, lower, upper"
   ]
  },
  {
   "cell_type": "code",
   "execution_count": 12,
   "metadata": {
    "colab": {
     "base_uri": "https://localhost:8080/",
     "height": 386
    },
    "colab_type": "code",
    "id": "gU0nqSwmQleJ",
    "outputId": "797843c2-cc0c-4d2a-cd79-cb0307211324"
   },
   "outputs": [
    {
     "data": {
      "text/plain": [
       "(0, 100000)"
      ]
     },
     "execution_count": 12,
     "metadata": {},
     "output_type": "execute_result"
    },
    {
     "data": {
      "image/png": "[encoded data removed]",
      "text/plain": [
       "<Figure size 425.125x360 with 1 Axes>"
      ]
     },
     "metadata": {
      "needs_background": "light"
     },
     "output_type": "display_data"
    }
   ],
   "source": [
    "# Call your bootstrap function and plot the results\n",
    "\n",
    "boots = []\n",
    "for i in range(100, 100000, 1000):\n",
    "    boot = boostrap_mean(data, data.shape[0], i)\n",
    "    boots.append([i, boot[0], \"mean\"])\n",
    "    boots.append([i, boot[1], \"lower\"])\n",
    "    boots.append([i, boot[2], \"upper\"])\n",
    "\n",
    "df_boot = pd.DataFrame(boots, columns=['Boostrap Iterations', 'Mean', \"Value\"])\n",
    "sns_plot = sns.lmplot(df_boot.columns[0], df_boot.columns[1], data=df_boot, fit_reg=False, hue=\"Value\")\n",
    "\n",
    "sns_plot.axes[0, 0].set_ylim(0,)\n",
    "sns_plot.axes[0, 0].set_xlim(0, 100000)\n",
    "\n",
    "#sns_plot.savefig(\"bootstrap_confidence.png\", bbox_inches='tight')\n",
    "#sns_plot.savefig(\"bootstrap_confidence.pdf\", bbox_inches='tight')\n"
   ]
  },
  {
   "cell_type": "code",
   "execution_count": 13,
   "metadata": {
    "colab": {},
    "colab_type": "code",
    "id": "nglZy6WmRGgh"
   },
   "outputs": [
    {
     "data": {
      "image/png": "[encoded data removed]",
      "text/plain": [
       "<Figure size 425.125x360 with 1 Axes>"
      ]
     },
     "metadata": {
      "needs_background": "light"
     },
     "output_type": "display_data"
    }
   ],
   "source": [
    "boots = []\n",
    "for i in range(100, 100000, 1000):\n",
    "    boot = boostrap_mean_ci(data, data.shape[0], i, 80)\n",
    "    boots.append([i, boot[0], \"mean\"])\n",
    "    boots.append([i, boot[1], \"lower\"])\n",
    "    boots.append([i, boot[2], \"upper\"])\n",
    "\n",
    "df_boot = pd.DataFrame(boots, columns=['Boostrap Iterations', 'Mean', \"Value\"])\n",
    "sns_plot = sns.lmplot(df_boot.columns[0], df_boot.columns[1], data=df_boot, fit_reg=False, hue=\"Value\")\n",
    "\n",
    "sns_plot.axes[0, 0].set_ylim(0,)\n",
    "sns_plot.axes[0, 0].set_xlim(0, 100000)\n",
    "\n",
    "sns_plot.savefig(\"bootstrap_confidence_80.png\", bbox_inches='tight')\n",
    "sns_plot.savefig(\"bootstrap_confidence_80.pdf\", bbox_inches='tight')"
   ]
  },
  {
   "cell_type": "code",
   "execution_count": 5,
   "metadata": {
    "colab": {
     "base_uri": "https://localhost:8080/",
     "height": 417
    },
    "colab_type": "code",
    "id": "j0P69a8nNaLb",
    "outputId": "15fddd7b-7924-472e-bb2c-8b2fd364f009"
   },
   "outputs": [
    {
     "data": {
      "text/html": [
       "<div>\n",
       "<style scoped>\n",
       "    .dataframe tbody tr th:only-of-type {\n",
       "        vertical-align: middle;\n",
       "    }\n",
       "\n",
       "    .dataframe tbody tr th {\n",
       "        vertical-align: top;\n",
       "    }\n",
       "\n",
       "    .dataframe thead th {\n",
       "        text-align: right;\n",
       "    }\n",
       "</style>\n",
       "<table border=\"1\" class=\"dataframe\">\n",
       "  <thead>\n",
       "    <tr style=\"text-align: right;\">\n",
       "      <th></th>\n",
       "      <th>Current fleet</th>\n",
       "      <th>New Fleet</th>\n",
       "    </tr>\n",
       "  </thead>\n",
       "  <tbody>\n",
       "    <tr>\n",
       "      <th>0</th>\n",
       "      <td>18</td>\n",
       "      <td>24.0</td>\n",
       "    </tr>\n",
       "    <tr>\n",
       "      <th>1</th>\n",
       "      <td>15</td>\n",
       "      <td>27.0</td>\n",
       "    </tr>\n",
       "    <tr>\n",
       "      <th>2</th>\n",
       "      <td>18</td>\n",
       "      <td>27.0</td>\n",
       "    </tr>\n",
       "    <tr>\n",
       "      <th>3</th>\n",
       "      <td>16</td>\n",
       "      <td>25.0</td>\n",
       "    </tr>\n",
       "    <tr>\n",
       "      <th>4</th>\n",
       "      <td>17</td>\n",
       "      <td>31.0</td>\n",
       "    </tr>\n",
       "    <tr>\n",
       "      <th>...</th>\n",
       "      <td>...</td>\n",
       "      <td>...</td>\n",
       "    </tr>\n",
       "    <tr>\n",
       "      <th>244</th>\n",
       "      <td>27</td>\n",
       "      <td>NaN</td>\n",
       "    </tr>\n",
       "    <tr>\n",
       "      <th>245</th>\n",
       "      <td>27</td>\n",
       "      <td>NaN</td>\n",
       "    </tr>\n",
       "    <tr>\n",
       "      <th>246</th>\n",
       "      <td>32</td>\n",
       "      <td>NaN</td>\n",
       "    </tr>\n",
       "    <tr>\n",
       "      <th>247</th>\n",
       "      <td>28</td>\n",
       "      <td>NaN</td>\n",
       "    </tr>\n",
       "    <tr>\n",
       "      <th>248</th>\n",
       "      <td>31</td>\n",
       "      <td>NaN</td>\n",
       "    </tr>\n",
       "  </tbody>\n",
       "</table>\n",
       "<p>249 rows × 2 columns</p>\n",
       "</div>"
      ],
      "text/plain": [
       "     Current fleet  New Fleet\n",
       "0               18       24.0\n",
       "1               15       27.0\n",
       "2               18       27.0\n",
       "3               16       25.0\n",
       "4               17       31.0\n",
       "..             ...        ...\n",
       "244             27        NaN\n",
       "245             27        NaN\n",
       "246             32        NaN\n",
       "247             28        NaN\n",
       "248             31        NaN\n",
       "\n",
       "[249 rows x 2 columns]"
      ]
     },
     "execution_count": 5,
     "metadata": {},
     "output_type": "execute_result"
    }
   ],
   "source": [
    "df= pd.read_csv('https://raw.githubusercontent.com/albanda/CE888/master/lab2%20-%20bootstrap/vehicles.csv')\n",
    "df"
   ]
  },
  {
   "cell_type": "code",
   "execution_count": 15,
   "metadata": {
    "colab": {},
    "colab_type": "code",
    "id": "AXp_4qCFZnIR"
   },
   "outputs": [
    {
     "data": {
      "text/plain": [
       "Index(['Current fleet', 'New Fleet'], dtype='object')"
      ]
     },
     "execution_count": 15,
     "metadata": {},
     "output_type": "execute_result"
    }
   ],
   "source": [
    "df.columns"
   ]
  },
  {
   "cell_type": "code",
   "execution_count": 16,
   "metadata": {
    "colab": {
     "base_uri": "https://localhost:8080/",
     "height": 386
    },
    "colab_type": "code",
    "id": "h8mYLV5DNaOL",
    "outputId": "7bba387c-f8c6-4880-e835-8e93337ddf3a"
   },
   "outputs": [
    {
     "data": {
      "text/plain": [
       "<seaborn.axisgrid.FacetGrid at 0x1e99ae34c48>"
      ]
     },
     "execution_count": 16,
     "metadata": {},
     "output_type": "execute_result"
    },
    {
     "data": {
      "image/png": "[encoded data removed]",
      "text/plain": [
       "<Figure size 360x360 with 1 Axes>"
      ]
     },
     "metadata": {
      "needs_background": "light"
     },
     "output_type": "display_data"
    }
   ],
   "source": [
    "data=df[df.columns[1]].values\n",
    "sns.lmplot(df.columns[0],df.columns[1],data=df,fit_reg=False)"
   ]
  },
  {
   "cell_type": "code",
   "execution_count": 17,
   "metadata": {
    "colab": {
     "base_uri": "https://localhost:8080/",
     "height": 332
    },
    "colab_type": "code",
    "id": "ZRCA5r7pToyq",
    "outputId": "a5019e99-ac2f-45ef-d01b-69d4f5844766"
   },
   "outputs": [
    {
     "data": {
      "text/plain": [
       "array([[<matplotlib.axes._subplots.AxesSubplot object at 0x000001E99AF042C8>,\n",
       "        <matplotlib.axes._subplots.AxesSubplot object at 0x000001E99AF25808>]],\n",
       "      dtype=object)"
      ]
     },
     "execution_count": 17,
     "metadata": {},
     "output_type": "execute_result"
    },
    {
     "data": {
      "image/png": "[encoded data removed]",
      "text/plain": [
       "<Figure size 432x288 with 2 Axes>"
      ]
     },
     "metadata": {
      "needs_background": "light"
     },
     "output_type": "display_data"
    }
   ],
   "source": [
    "df.hist()"
   ]
  },
  {
   "cell_type": "code",
   "execution_count": 18,
   "metadata": {
    "colab": {},
    "colab_type": "code",
    "id": "WyLez8fRT-YJ"
   },
   "outputs": [],
   "source": [
    "df[['Current fleet']].mean(axis=0)\n",
    "df[['New Fleet']].mean(axis=0)\n",
    "current=df[df.columns[0]]\n",
    "new=df[df.columns[1]][:79]"
   ]
  },
  {
   "cell_type": "code",
   "execution_count": 19,
   "metadata": {
    "colab": {
     "base_uri": "https://localhost:8080/",
     "height": 51
    },
    "colab_type": "code",
    "id": "qS-26llEbKzR",
    "outputId": "7d1738c1-31cb-4f41-89ba-4331516bec32"
   },
   "outputs": [
    {
     "name": "stdout",
     "output_type": "stream",
     "text": [
      "20.137353413654616\n",
      "19.45763052208835\n"
     ]
    }
   ],
   "source": [
    "m,l,u=boostrap_mean(current, len(current), 1000)\n",
    "print(m)\n",
    "print(l)"
   ]
  },
  {
   "cell_type": "code",
   "execution_count": 20,
   "metadata": {
    "colab": {
     "base_uri": "https://localhost:8080/",
     "height": 68
    },
    "colab_type": "code",
    "id": "4mdDJdXScOra",
    "outputId": "0faefb62-3a18-4766-c5ba-a871747fc25c"
   },
   "outputs": [
    {
     "name": "stdout",
     "output_type": "stream",
     "text": [
      "30.49226582278481\n",
      "29.367088607594937\n",
      "10.354912409130193\n"
     ]
    }
   ],
   "source": [
    "a,b,c=boostrap_mean(new, len(new), 1000)\n",
    "print(a)\n",
    "print(b)\n",
    "diff_obs=a-m\n",
    "print(diff_obs)\n",
    "ctr=0"
   ]
  },
  {
   "cell_type": "code",
   "execution_count": 21,
   "metadata": {
    "colab": {
     "base_uri": "https://localhost:8080/",
     "height": 34
    },
    "colab_type": "code",
    "id": "_Pxnk-m7dVhU",
    "outputId": "15297935-d5ea-476b-b0a1-0311020f95cc"
   },
   "outputs": [
    {
     "name": "stdout",
     "output_type": "stream",
     "text": [
      "0.0\n"
     ]
    }
   ],
   "source": [
    "for i in range(10000):\n",
    "  concat=np.concatenate((current,new))\n",
    "  permut=np.random.permutation(concat)\n",
    "  pold = permut[:249]\n",
    "  pnew = permut[249:]\n",
    "  #print(pold,pnew)\n",
    "  #print('')\n",
    "  pold1,b,c=boostrap_mean(pold, len(pold), 1)\n",
    "  pnew1,d,e=boostrap_mean(pnew, len(pnew), 1)\n",
    "  #print(pold1,pnew1)\n",
    "  #print(pnew1,pold1)\n",
    "  diff_perm=pnew1-pold1\n",
    "  #print(diff_perm)\n",
    "  if(diff_perm>diff_obs):\n",
    "    ctr=ctr+1\n",
    "\n",
    "print(ctr/10000)\n",
    " "
   ]
  },
  {
   "cell_type": "code",
   "execution_count": 1,
   "metadata": {
    "colab": {},
    "colab_type": "code",
    "id": "gFu-ZN3dhHD_"
   },
   "outputs": [],
   "source": [
    "# Function to calculate the p values\n",
    "def pvalue_calc(iterations,data1,data2,tot_obs):\n",
    "  concat = np.concatenate((data1,data2))\n",
    "  cnt=0\n",
    "  for i in range(0,iterations):\n",
    "    perm = np.random.permutation(concat)\n",
    "    pcurrent = perm[:len(data1)]\n",
    "    pnew = perm[len(data1):]\n",
    "    mean_perm_old=pcurrent.mean()\n",
    "    mean_perm_new=pnew.mean()\n",
    "    t_perm=mean_perm_new-mean_perm_old\n",
    "    if(t_perm>t_obs):\n",
    "      cnt+=1\n",
    "  p_value=cnt/iterations\n",
    "  return p_value"
   ]
  },
  {
   "cell_type": "code",
   "execution_count": 6,
   "metadata": {},
   "outputs": [],
   "source": [
    "# Compare the two fleets.\n",
    "# You can create a permutation test function to do this. Check the lecture notes!\n",
    "data_current_fleet=np.array(df[df.columns[0]].values)\n",
    "data_new_fleet=np.array(df[df.columns[1]].dropna().values)\n",
    "mean_current=data_current_fleet.mean()\n",
    "mean_new=data_new_fleet.mean()\n",
    "t_obs=mean_new-mean_current"
   ]
  },
  {
   "cell_type": "code",
   "execution_count": 7,
   "metadata": {},
   "outputs": [
    {
     "name": "stdout",
     "output_type": "stream",
     "text": [
      "0.0\n"
     ]
    }
   ],
   "source": [
    "p_val=pvalue_calc(50000,data_current_fleet,data_new_fleet,t_obs)\n",
    "print(p_val)"
   ]
  },
  {
   "cell_type": "code",
   "execution_count": 25,
   "metadata": {
    "colab": {},
    "colab_type": "code",
    "id": "wh_kiL3cd1eE"
   },
   "outputs": [
    {
     "name": "stdout",
     "output_type": "stream",
     "text": [
      "0.0322\n"
     ]
    }
   ],
   "source": [
    "old = np.array([0, 0, 0, 0, 0, 0, 1, 0, 0, 1, 0])\n",
    "new = np.array([1, 0, 0, 1, 1, 1, 0, 0, 0, 1, 0])\n",
    "mean_current=old.mean()\n",
    "mean_new=new.mean()\n",
    "t_obs=mean_new-mean_current\n",
    "p_val=calc_pvalue(20000,old,new,t_obs)\n",
    "print(p_val)"
   ]
  },
  {
   "cell_type": "code",
   "execution_count": null,
   "metadata": {},
   "outputs": [],
   "source": []
  }
 ],
 "metadata": {
  "colab": {
   "authorship_tag": "ABX9TyMJxww1tp1sJSz66a7slO6a",
   "collapsed_sections": [],
   "include_colab_link": true,
   "name": "lab2final.ipynb",
   "provenance": []
  },
  "kernelspec": {
   "display_name": "Python 3",
   "language": "python",
   "name": "python3"
  },
  "language_info": {
   "codemirror_mode": {
    "name": "ipython",
    "version": 3
   },
   "file_extension": ".py",
   "mimetype": "text/x-python",
   "name": "python",
   "nbconvert_exporter": "python",
   "pygments_lexer": "ipython3",
   "version": "3.7.4"
  }
 },
 "nbformat": 4,
 "nbformat_minor": 1
}
