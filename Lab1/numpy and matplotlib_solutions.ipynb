{
 "cells": [
  {
   "cell_type": "markdown",
   "metadata": {
    "colab_type": "text",
    "id": "view-in-github"
   },
   "source": [
    "<a href=\"https://colab.research.google.com/github/Dilparao/CE888/blob/master/lab1.ipynb\" target=\"_parent\"><img src=\"https://colab.research.google.com/assets/colab-badge.svg\" alt=\"Open In Colab\"/></a>"
   ]
  },
  {
   "cell_type": "code",
   "execution_count": 1,
   "metadata": {
    "colab": {
     "base_uri": "https://localhost:8080/",
     "height": 85
    },
    "colab_type": "code",
    "id": "JhuD8mDvzm_b",
    "outputId": "422d9c2f-b4c9-4767-ded1-61784c15e439"
   },
   "outputs": [
    {
     "name": "stdout",
     "output_type": "stream",
     "text": [
      "[[1 2]\n",
      " [3 4]\n",
      " [5 6]\n",
      " [7 8]]\n"
     ]
    }
   ],
   "source": [
    "#1. Create a (4 x 2) integer array and print it's attributes\n",
    "import numpy as np\n",
    "x = np.array([[1, 2],[3,4],[5,6],[7,8]])\n",
    "print(x)\n"
   ]
  },
  {
   "cell_type": "code",
   "execution_count": 37,
   "metadata": {
    "colab": {
     "base_uri": "https://localhost:8080/",
     "height": 68
    },
    "colab_type": "code",
    "id": "g3ekz8IF2CFZ",
    "outputId": "7cda1b82-ed51-4677-cc2e-756c0da31c81"
   },
   "outputs": [
    {
     "name": "stdout",
     "output_type": "stream",
     "text": [
      "(1, 10)\n",
      "The ascending order is [[ 1  2  4  5  8  9 21 24 34 56]]\n",
      "The descending order is [[56 34 24 21  9  8  5  4  2  1]]\n"
     ]
    }
   ],
   "source": [
    "#2. Create an array of dimension (1,10) and sort it in ascending and descending order\n",
    "y = np.array([[1,4,9,5,8,34,56,24,2,21]])\n",
    "print(y.shape)         # dimension of an array\n",
    "y.sort()\n",
    "print('The ascending order is '+str(y))               # ascending order\n",
    "print('The descending order is ' + str(-np.sort(-y)))    # descending order)\n"
   ]
  },
  {
   "cell_type": "code",
   "execution_count": 40,
   "metadata": {
    "colab": {
     "base_uri": "https://localhost:8080/",
     "height": 68
    },
    "colab_type": "code",
    "id": "ntE9Wzmf4kAq",
    "outputId": "aeaa38a3-6ca9-43c4-e022-cecf4b4a5be8"
   },
   "outputs": [
    {
     "data": {
      "text/plain": [
       "array([[1, 2, 3],\n",
       "       [4, 5, 6],\n",
       "       [7, 8, 9]])"
      ]
     },
     "execution_count": 40,
     "metadata": {
      "tags": []
     },
     "output_type": "execute_result"
    }
   ],
   "source": [
    "#3. Convert an 1D array [1 2 3 4 5 6 7 8 9] to 2D array [[1 2 3], [4 5 6], [7 8 9]]\n",
    "X=np.array([1, 2, 3, 4, 5, 6, 7, 8, 9])\n",
    "np.reshape(X, (3,-1)) "
   ]
  },
  {
   "cell_type": "code",
   "execution_count": 48,
   "metadata": {
    "colab": {
     "base_uri": "https://localhost:8080/",
     "height": 85
    },
    "colab_type": "code",
    "id": "G1GOgGxW8NTP",
    "outputId": "2c72263e-7f4b-407a-e691-8cb4c604ff9a"
   },
   "outputs": [
    {
     "name": "stdout",
     "output_type": "stream",
     "text": [
      "[2 3 4 5 6 4 5 6 7 8]\n",
      "[[2 3 4 5 6]\n",
      " [4 5 6 7 8]]\n"
     ]
    },
    {
     "data": {
      "text/plain": [
       "2"
      ]
     },
     "execution_count": 48,
     "metadata": {
      "tags": []
     },
     "output_type": "execute_result"
    }
   ],
   "source": [
    "#4. Stack two arrays of any size horizontally and vertically\n",
    "a = np.array([2,3,4,5,6])\n",
    "b = np.array([4,5,6,7,8])\n",
    "x=np.hstack((a,b))\n",
    "y=np.vstack((a,b))\n",
    "print(x)\n",
    "print(y)\n",
    "y.ndim"
   ]
  },
  {
   "cell_type": "code",
   "execution_count": 47,
   "metadata": {
    "colab": {
     "base_uri": "https://localhost:8080/",
     "height": 85
    },
    "colab_type": "code",
    "id": "aaEyRIR2-SGh",
    "outputId": "6bad3b77-d2ae-490c-cf92-bb4f2f4e2ccf"
   },
   "outputs": [
    {
     "name": "stdout",
     "output_type": "stream",
     "text": [
      "Array1:  [ 0 10 20 40 60]\n",
      "Array2:  [10 30 40 50 60]\n",
      "Common values between two arrays:\n",
      "[10 40 60]\n"
     ]
    }
   ],
   "source": [
    "#5. Create two arrays of same size and find common elements\n",
    "array1 = np.array([0, 10, 20, 40, 60])\n",
    "print(\"Array1: \",array1)\n",
    "array2 = np.array([10, 30, 40, 50, 60])\n",
    "print(\"Array2: \",array2)\n",
    "print(\"Common values between two arrays:\")\n",
    "print(np.intersect1d(array1, array2))"
   ]
  },
  {
   "cell_type": "code",
   "execution_count": 74,
   "metadata": {
    "colab": {
     "base_uri": "https://localhost:8080/",
     "height": 85
    },
    "colab_type": "code",
    "id": "DFA_JbRi-8Hy",
    "outputId": "60dcc886-41d9-4e6e-ab90-a484a78c17da"
   },
   "outputs": [
    {
     "name": "stdout",
     "output_type": "stream",
     "text": [
      "The max values of each row is [5, 11, 9, 8, 15]\n",
      "The min values of each row is [1, 2, 4, 3, 6]\n",
      "The maximum values for each column is [15  6 12  9 11]\n",
      "The maximum values for each column is [1 2 3 2 5]\n"
     ]
    }
   ],
   "source": [
    "#6. Create a 2D array of 5 X 5 and find the min  and max values of each row\n",
    "x=([[1,2,3,4,5],[3,6,9,2,11],[9,4,7,5,8],[3,6,5,7,8],[15,6,12,9,8]])\n",
    "\n",
    "list1=[]\n",
    "for i in range(5):\n",
    "  max = 0\n",
    "  for j in range(5):\n",
    "    if x[i][j] > max:\n",
    "      max = x[i][j]\n",
    "  list1.append(max)\n",
    "print('The max values of each row is '+str(list1))   \n",
    "\n",
    "list1=[]\n",
    "for i in range(5):\n",
    "  min = 100\n",
    "  for j in range(5):\n",
    "    if x[i][j] < min:\n",
    "      min = x[i][j]\n",
    "  list1.append(min)\n",
    "print('The min values of each row is '+str(list1)) \n",
    "\n",
    "print ('The maximum values for each column is '+str(np.max(x,axis=0)))\n",
    "print ('The maximum values for each column is '+str(np.min(x,axis=0)))\n",
    "\n",
    "\n"
   ]
  },
  {
   "cell_type": "code",
   "execution_count": 95,
   "metadata": {
    "colab": {
     "base_uri": "https://localhost:8080/",
     "height": 68
    },
    "colab_type": "code",
    "id": "ogxpkA8mIiAG",
    "outputId": "8e304d78-a9e7-4951-cc76-6a0660529703"
   },
   "outputs": [
    {
     "name": "stdout",
     "output_type": "stream",
     "text": [
      "Mean is  49.5\n",
      "Median is  49.5\n",
      "Standard Deviation:  28.86607004772212\n"
     ]
    }
   ],
   "source": [
    "# 7. Create an array of size 100 and compute the mean, median, standard deviation.\n",
    "from statistics import median\n",
    "x=np.arange(100)\n",
    "#print(x)\n",
    "print('Mean is ',x.mean())\n",
    "print(\"Median is \"  ,median(x))\n",
    "print(\"Standard Deviation: \",x.std())\n"
   ]
  },
  {
   "cell_type": "code",
   "execution_count": 97,
   "metadata": {
    "colab": {
     "base_uri": "https://localhost:8080/",
     "height": 221
    },
    "colab_type": "code",
    "id": "MdqqeIbsLitN",
    "outputId": "db3455b1-4b13-4ae9-ab74-30e9d88c5764"
   },
   "outputs": [
    {
     "name": "stdout",
     "output_type": "stream",
     "text": [
      "Original Matrix:\n",
      "[[0.00473739 0.42217594 0.01564741 0.29650552 0.79773977]\n",
      " [0.69593061 0.23175355 0.21963862 0.84592275 0.07400499]\n",
      " [0.34575677 0.57665122 0.70193476 0.57436397 0.03982438]\n",
      " [0.45590897 0.25284819 0.39833242 0.79318077 0.05288591]\n",
      " [0.45871    0.11106943 0.40503222 0.23810389 0.67109113]]\n",
      "After normalization:\n",
      "[[0.         0.49625038 0.01296981 0.34685355 0.94272014]\n",
      " [0.82168955 0.2698765  0.25547429 1.         0.08234523]\n",
      " [0.40540338 0.67989038 0.82882728 0.67717129 0.04171137]\n",
      " [0.53635216 0.29495378 0.46790524 0.93730041 0.0572389 ]\n",
      " [0.53968202 0.12640739 0.47586995 0.27742577 0.79216041]]\n"
     ]
    }
   ],
   "source": [
    "#8.Normalize a 5x5 random matrix\n",
    "import numpy as np\n",
    "x= np.random.random((5,5))\n",
    "print(\"Original Matrix:\")\n",
    "print(x)\n",
    "xmax, xmin = x.max(), x.min()\n",
    "x = (x - xmin)/(xmax - xmin)\n",
    "print(\"After normalization:\")\n",
    "print(x)\n"
   ]
  },
  {
   "cell_type": "code",
   "execution_count": 103,
   "metadata": {
    "colab": {
     "base_uri": "https://localhost:8080/",
     "height": 340
    },
    "colab_type": "code",
    "id": "5q4u1EwRNaSD",
    "outputId": "b9c5b44b-e5b8-47d1-f9e5-ed23eec5d5ca"
   },
   "outputs": [
    {
     "name": "stdout",
     "output_type": "stream",
     "text": [
      "[[[16 12 16]\n",
      "  [ 1  4  1]\n",
      "  [ 7  2  9]\n",
      "  [ 2  8  8]]\n",
      "\n",
      " [[ 4  8  3]\n",
      "  [ 3  8  7]\n",
      "  [48 30 18]\n",
      "  [32  4 32]]\n",
      "\n",
      " [[16 36  8]\n",
      "  [24 48 16]\n",
      "  [24  8  8]\n",
      "  [45 45 72]]\n",
      "\n",
      " [[ 5  4  5]\n",
      "  [16 32 16]\n",
      "  [20  8  8]\n",
      "  [21 21 56]]]\n"
     ]
    }
   ],
   "source": [
    "#9.Consider an array of dimension (4,4,3), how to mulitply it by an array with dimensions (4,4)\n",
    "a=np.random.randint(1,10, (4,4,3))\n",
    "b=np.random.randint(1,10, (4,4))\n",
    "print(a*b[:,:,None])\n",
    " "
   ]
  },
  {
   "cell_type": "code",
   "execution_count": 0,
   "metadata": {
    "colab": {},
    "colab_type": "code",
    "id": "LkJy9Dc-RZTu"
   },
   "outputs": [],
   "source": []
  },
  {
   "cell_type": "code",
   "execution_count": 0,
   "metadata": {
    "colab": {},
    "colab_type": "code",
    "id": "QSSz4uc8FZLC"
   },
   "outputs": [],
   "source": []
  }
 ],
 "metadata": {
  "colab": {
   "authorship_tag": "ABX9TyN4XtmikiAe3k2AcDcObRAU",
   "include_colab_link": true,
   "name": "Untitled4.ipynb",
   "provenance": []
  },
  "kernelspec": {
   "display_name": "Python 3",
   "language": "python",
   "name": "python3"
  },
  "language_info": {
   "codemirror_mode": {
    "name": "ipython",
    "version": 3
   },
   "file_extension": ".py",
   "mimetype": "text/x-python",
   "name": "python",
   "nbconvert_exporter": "python",
   "pygments_lexer": "ipython3",
   "version": "3.7.4"
  }
 },
 "nbformat": 4,
 "nbformat_minor": 1
}
